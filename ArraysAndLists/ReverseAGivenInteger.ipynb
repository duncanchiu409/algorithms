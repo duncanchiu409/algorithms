{
 "metadata": {
  "language_info": {
   "codemirror_mode": {
    "name": "ipython",
    "version": 3
   },
   "file_extension": ".py",
   "mimetype": "text/x-python",
   "name": "python",
   "nbconvert_exporter": "python",
   "pygments_lexer": "ipython3",
   "version": "3.8.2"
  },
  "orig_nbformat": 4,
  "kernelspec": {
   "name": "python3",
   "display_name": "Python 3.8.2 64-bit"
  },
  "interpreter": {
   "hash": "5edc29c2ed010d6458d71a83433b383a96a8cbd3efe8531bc90c4b8a5b8bcec9"
  }
 },
 "nbformat": 4,
 "nbformat_minor": 2,
 "cells": [
  {
   "cell_type": "code",
   "execution_count": 9,
   "metadata": {},
   "outputs": [],
   "source": [
    "# Recursion\n",
    "# 1234 -> 4321, 578 -> 875\n",
    "def reverseInteger(num,reverse):\n",
    "    if num < 10:\n",
    "        return reverse * 10 + num\n",
    "    quotient = num % 10\n",
    "    num = int(num / 10)\n",
    "    reverse = reverse * 10 + quotient\n",
    "    return reverseInteger(num,reverse)"
   ]
  },
  {
   "cell_type": "code",
   "execution_count": 15,
   "metadata": {},
   "outputs": [],
   "source": [
    "# While loop\n",
    "def reverseInteger2(num):\n",
    "    reverse = 0\n",
    "    remainder = 0\n",
    "    while num > 0:\n",
    "        remainder = num % 10\n",
    "        reverse = reverse * 10 + remainder\n",
    "        num = num // 10 # // is division in c++ without casting into float\n",
    "    return reverse"
   ]
  },
  {
   "cell_type": "code",
   "execution_count": null,
   "metadata": {},
   "outputs": [],
   "source": []
  }
 ]
}